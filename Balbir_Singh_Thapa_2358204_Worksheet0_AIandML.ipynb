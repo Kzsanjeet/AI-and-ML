{
  "nbformat": 4,
  "nbformat_minor": 0,
  "metadata": {
    "colab": {
      "provenance": []
    },
    "kernelspec": {
      "name": "python3",
      "display_name": "Python 3"
    },
    "language_info": {
      "name": "python"
    }
  },
  "cells": [
    {
      "cell_type": "markdown",
      "source": [
        "# Exercise on Functions:"
      ],
      "metadata": {
        "id": "s1VYp5otzy4i"
      }
    },
    {
      "cell_type": "markdown",
      "source": [
        "# Task-1 Unit Conversion"
      ],
      "metadata": {
        "id": "8-CTWL4rzpP0"
      }
    },
    {
      "cell_type": "code",
      "execution_count": 1,
      "metadata": {
        "colab": {
          "base_uri": "https://localhost:8080/"
        },
        "id": "_Wc3B-ppzalq",
        "outputId": "904580f7-25ea-4575-8830-f226b0ff165c"
      },
      "outputs": [
        {
          "output_type": "stream",
          "name": "stdout",
          "text": [
            "Welcome to the Unit Converter!\n",
            "Choose from the following conversions:\n",
            "1. Length (meters to feet OR feet to meters)\n",
            "2. Weight (kilograms to pounds OR pounds to kilograms)\n",
            "3. Volume (liters to gallons OR gallons to liters)\n",
            "Enter 1, 2, or 3 to choose conversion type: 2\n",
            "Enter the value you want to convert: 10\n",
            "Specify conversion ('kg_to_lbs' or 'lbs_to_kg'): kg_to_lbs\n",
            "Converted value: 22.0462\n"
          ]
        }
      ],
      "source": [
        "def convert_length(value, unit):\n",
        "    \"\"\"\n",
        "    This function converts length between meters and feet.\n",
        "\n",
        "    Arguments:\n",
        "    value (float): The numerical value that needs to be converted.\n",
        "    unit (str): The type of conversion ('m_to_ft' for meters to feet, 'ft_to_m' for feet to meters).\n",
        "\n",
        "    Returns:\n",
        "    float: The converted length value.\n",
        "\n",
        "    Raises:\n",
        "    ValueError: If an incorrect unit type is given.\n",
        "    \"\"\"\n",
        "    if unit == 'm_to_ft':\n",
        "        return value * 3.28084  # Meters to feet conversion\n",
        "    elif unit == 'ft_to_m':\n",
        "        return value / 3.28084  # Feet to meters conversion\n",
        "    else:\n",
        "        raise ValueError(\"Invalid conversion unit for length.\")  # Raise error for invalid unit\n",
        "\n",
        "def convert_weight(value, unit):\n",
        "    \"\"\"\n",
        "    This function converts weight between kilograms and pounds.\n",
        "\n",
        "    Arguments:\n",
        "    value (float): The numerical value to convert.\n",
        "    unit (str): The conversion type ('kg_to_lbs' for kg to lbs, 'lbs_to_kg' for lbs to kg).\n",
        "\n",
        "    Returns:\n",
        "    float: The converted weight value.\n",
        "\n",
        "    Raises:\n",
        "    ValueError: If the conversion unit is invalid.\n",
        "    \"\"\"\n",
        "    if unit == 'kg_to_lbs':\n",
        "        return value * 2.20462  # Convert kilograms to pounds\n",
        "    elif unit == 'lbs_to_kg':\n",
        "        return value / 2.20462  # Convert pounds to kilograms\n",
        "    else:\n",
        "        raise ValueError(\"Invalid conversion unit for weight.\")  # Handle incorrect input\n",
        "\n",
        "def convert_volume(value, unit):\n",
        "    \"\"\"\n",
        "    This function converts volume between liters and gallons.\n",
        "\n",
        "    Arguments:\n",
        "    value (float): The value that needs to be converted.\n",
        "    unit (str): The conversion type ('L_to_gal' for liters to gallons, 'gal_to_L' for gallons to liters).\n",
        "\n",
        "    Returns:\n",
        "    float: The converted volume value.\n",
        "\n",
        "    Raises:\n",
        "    ValueError: If the conversion unit is invalid.\n",
        "    \"\"\"\n",
        "    if unit == 'L_to_gal':\n",
        "        return value * 0.264172  # Convert liters to gallons\n",
        "    elif unit == 'gal_to_L':\n",
        "        return value / 0.264172  # Convert gallons to liters\n",
        "    else:\n",
        "        raise ValueError(\"Invalid conversion unit for volume.\")  # Handle incorrect input\n",
        "\n",
        "def main():\n",
        "    \"\"\"\n",
        "    The main function of the program.\n",
        "    It allows users to choose a conversion type, input a value, and get the converted result.\n",
        "    \"\"\"\n",
        "    print(\"Welcome to the Unit Converter!\")  # Introduction message\n",
        "    print(\"Choose from the following conversions:\")\n",
        "    print(\"1. Length (meters to feet OR feet to meters)\")\n",
        "    print(\"2. Weight (kilograms to pounds OR pounds to kilograms)\")\n",
        "    print(\"3. Volume (liters to gallons OR gallons to liters)\")\n",
        "\n",
        "    try:\n",
        "        # Ask user for the conversion type\n",
        "        conversion_type = int(input(\"Enter 1, 2, or 3 to choose conversion type: \"))\n",
        "        value = float(input(\"Enter the value you want to convert: \"))  # Get the number for conversion\n",
        "\n",
        "        if conversion_type == 1:\n",
        "            unit = input(\"Specify conversion ('m_to_ft' or 'ft_to_m'): \")\n",
        "            result = convert_length(value, unit)  # Call length conversion function\n",
        "        elif conversion_type == 2:\n",
        "            unit = input(\"Specify conversion ('kg_to_lbs' or 'lbs_to_kg'): \")\n",
        "            result = convert_weight(value, unit)  # Call weight conversion function\n",
        "        elif conversion_type == 3:\n",
        "            unit = input(\"Specify conversion ('L_to_gal' or 'gal_to_L'): \")\n",
        "            result = convert_volume(value, unit)  # Call volume conversion function\n",
        "        else:\n",
        "            print(\"Error: Invalid choice. Please enter 1, 2, or 3.\")\n",
        "            return  # Exit function on invalid input\n",
        "\n",
        "        print(f\"Converted value: {result}\")  # Output the result\n",
        "\n",
        "    except ValueError as e:\n",
        "        print(f\"Invalid input: {e}\")  # Handle incorrect data entry\n",
        "\n",
        "# Execute the unit converter program\n",
        "main()\n"
      ]
    },
    {
      "cell_type": "markdown",
      "source": [
        "# Task-2 Math Operation on List of Numbers"
      ],
      "metadata": {
        "id": "rVa5pztD0Y2e"
      }
    },
    {
      "cell_type": "code",
      "source": [
        "def calculate_sum(numbers):\n",
        "    \"\"\"\n",
        "    Computes and returns the sum of a list of numbers.\n",
        "\n",
        "    Arguments:\n",
        "    numbers (list): A list containing numerical values.\n",
        "\n",
        "    Returns:\n",
        "    float: The total sum of the numbers in the list.\n",
        "    \"\"\"\n",
        "    return sum(numbers)  # Adds all elements together\n",
        "\n",
        "def calculate_average(numbers):\n",
        "    \"\"\"\n",
        "    Computes and returns the average of a given list of numbers.\n",
        "\n",
        "    Arguments:\n",
        "    numbers (list): A list containing numerical values.\n",
        "\n",
        "    Returns:\n",
        "    float: The average value of the list.\n",
        "\n",
        "    Note:\n",
        "    If the list is empty, a ZeroDivisionError will be raised.\n",
        "    \"\"\"\n",
        "    return sum(numbers) / len(numbers)  # Computes the mean\n",
        "\n",
        "def find_maximum(numbers):\n",
        "    \"\"\"\n",
        "    Determines and returns the highest number in a given list.\n",
        "\n",
        "    Arguments:\n",
        "    numbers (list): A list of numerical values.\n",
        "\n",
        "    Returns:\n",
        "    float: The maximum value found in the list.\n",
        "    \"\"\"\n",
        "    return max(numbers)  # Identifies the largest number\n",
        "\n",
        "def find_minimum(numbers):\n",
        "    \"\"\"\n",
        "    Determines and returns the smallest number in a given list.\n",
        "\n",
        "    Arguments:\n",
        "    numbers (list): A list of numerical values.\n",
        "\n",
        "    Returns:\n",
        "    float: The minimum value found in the list.\n",
        "    \"\"\"\n",
        "    return min(numbers)  # Identifies the smallest number\n",
        "\n",
        "def main():\n",
        "    \"\"\"\n",
        "    The main function that runs the interactive program.\n",
        "    It allows users to choose an operation and input numbers.\n",
        "    \"\"\"\n",
        "    print(\"Welcome to the Mathematical Operations Program!\")  # Program introduction\n",
        "    print(\"Available operations:\")\n",
        "    print(\"1. Calculate Sum\")\n",
        "    print(\"2. Calculate Average\")\n",
        "    print(\"3. Find Maximum\")\n",
        "    print(\"4. Find Minimum\")\n",
        "\n",
        "    try:\n",
        "        # Prompt user for choice\n",
        "        operation = int(input(\"Enter 1, 2, 3, or 4 to select an operation: \"))\n",
        "        numbers = list(map(float, input(\"Enter numbers separated by spaces: \").split()))  # User enters numbers\n",
        "\n",
        "        # Perform selected operation\n",
        "        if operation == 1:\n",
        "            print(f\"The sum of the numbers is: {calculate_sum(numbers)}\")\n",
        "        elif operation == 2:\n",
        "            print(f\"The average of the numbers is: {calculate_average(numbers)}\")\n",
        "        elif operation == 3:\n",
        "            print(f\"The highest number is: {find_maximum(numbers)}\")\n",
        "        elif operation == 4:\n",
        "            print(f\"The lowest number is: {find_minimum(numbers)}\")\n",
        "        else:\n",
        "            print(\"Invalid selection. Please enter a number between 1 and 4.\")\n",
        "\n",
        "    except ValueError as e:\n",
        "        print(f\"Invalid input: {e}. Please enter valid numbers.\")  # Error handling\n",
        "    except ZeroDivisionError:\n",
        "        print(\"Error: Cannot compute the average of an empty list.\")  # Handling division by zero\n",
        "\n",
        "# Execute the program\n",
        "main()\n"
      ],
      "metadata": {
        "colab": {
          "base_uri": "https://localhost:8080/"
        },
        "id": "rB4V4IEo0FhL",
        "outputId": "1fbf7272-4d39-4559-a0a6-ff8ebed64ab8"
      },
      "execution_count": 2,
      "outputs": [
        {
          "output_type": "stream",
          "name": "stdout",
          "text": [
            "Welcome to the Mathematical Operations Program!\n",
            "Available operations:\n",
            "1. Calculate Sum\n",
            "2. Calculate Average\n",
            "3. Find Maximum\n",
            "4. Find Minimum\n",
            "Enter 1, 2, 3, or 4 to select an operation: 1\n",
            "Enter numbers separated by spaces: 20 10\n",
            "The sum of the numbers is: 30.0\n"
          ]
        }
      ]
    },
    {
      "cell_type": "markdown",
      "source": [
        "# Exercise on List Manipulation:"
      ],
      "metadata": {
        "id": "7uYcjGpB0_rE"
      }
    },
    {
      "cell_type": "code",
      "source": [
        "def extract_every_other(lst):\n",
        "    \"\"\"\n",
        "    This function returns every other element from the given list.\n",
        "\n",
        "    Parameters:\n",
        "    - lst (list): The input list of elements.\n",
        "\n",
        "    Returns:\n",
        "    - list: A new list containing elements at alternate positions.\n",
        "    \"\"\"\n",
        "    return lst[::2]  # Picks elements at even indexes (0, 2, 4, ...).\n",
        "\n",
        "# Function call example\n",
        "print(extract_every_other([1, 2, 3, 4, 5, 6]))  # Expected output: [1, 3, 5]\n"
      ],
      "metadata": {
        "colab": {
          "base_uri": "https://localhost:8080/"
        },
        "id": "8ui-kMre0w3H",
        "outputId": "79f8fa86-6bff-474d-b016-066adab11045"
      },
      "execution_count": 3,
      "outputs": [
        {
          "output_type": "stream",
          "name": "stdout",
          "text": [
            "[1, 3, 5]\n"
          ]
        }
      ]
    },
    {
      "cell_type": "code",
      "source": [
        "def get_sublist(lst, start, end):\n",
        "    \"\"\"\n",
        "    This function extracts a portion of a list based on the given start and end indexes.\n",
        "\n",
        "    Parameters:\n",
        "    - lst (list): The original list.\n",
        "    - start (int): The index where extraction begins.\n",
        "    - end (int): The index where extraction stops.\n",
        "\n",
        "    Returns:\n",
        "    - list: A sublist containing elements from start to end (inclusive).\n",
        "    \"\"\"\n",
        "    return lst[start:end+1]  # Returns a sliced list including the end index.\n",
        "\n",
        "# Function call example\n",
        "print(get_sublist([1, 2, 3, 4, 5, 6], 2, 4))  # Expected output: [3, 4, 5]\n"
      ],
      "metadata": {
        "colab": {
          "base_uri": "https://localhost:8080/"
        },
        "id": "Z2uRdVIQ2JDt",
        "outputId": "fac0bab9-d937-494a-913e-6ea4806a3b84"
      },
      "execution_count": 4,
      "outputs": [
        {
          "output_type": "stream",
          "name": "stdout",
          "text": [
            "[3, 4, 5]\n"
          ]
        }
      ]
    },
    {
      "cell_type": "code",
      "source": [
        "def reverse_list(lst):\n",
        "    \"\"\"\n",
        "    This function returns the reversed version of the given list.\n",
        "\n",
        "    Parameters:\n",
        "    - lst (list): The list to be reversed.\n",
        "\n",
        "    Returns:\n",
        "    - list: A new list with elements in reverse order.\n",
        "    \"\"\"\n",
        "    return lst[::-1]  # Uses slicing to reverse the list.\n",
        "\n",
        "# Function call example\n",
        "print(reverse_list([1, 2, 3, 4, 5]))  # Expected output: [5, 4, 3, 2, 1]\n"
      ],
      "metadata": {
        "colab": {
          "base_uri": "https://localhost:8080/"
        },
        "id": "QiySrYeF2Ut7",
        "outputId": "13d9516b-9932-4c84-d4fe-202f18051463"
      },
      "execution_count": 5,
      "outputs": [
        {
          "output_type": "stream",
          "name": "stdout",
          "text": [
            "[5, 4, 3, 2, 1]\n"
          ]
        }
      ]
    },
    {
      "cell_type": "code",
      "source": [
        "def remove_first_last(lst):\n",
        "    \"\"\"\n",
        "    This function removes the first and last elements from a given list.\n",
        "\n",
        "    Parameters:\n",
        "    - lst (list): The original list.\n",
        "\n",
        "    Returns:\n",
        "    - list: A new list excluding the first and last elements.\n",
        "    \"\"\"\n",
        "    return lst[1:-1]  # Returns a sliced list without the first and last items.\n",
        "\n",
        "# Function call example\n",
        "print(remove_first_last([1, 2, 3, 4, 5]))  # Expected output: [2, 3, 4]\n"
      ],
      "metadata": {
        "colab": {
          "base_uri": "https://localhost:8080/"
        },
        "id": "9zxHVjqa2YDp",
        "outputId": "1601b484-ab4e-4fe4-d46c-9c1c0992dff1"
      },
      "execution_count": 6,
      "outputs": [
        {
          "output_type": "stream",
          "name": "stdout",
          "text": [
            "[2, 3, 4]\n"
          ]
        }
      ]
    },
    {
      "cell_type": "code",
      "source": [
        "def get_first_n(lst, n):\n",
        "    \"\"\"\n",
        "    This function extracts the first n elements from the provided list.\n",
        "\n",
        "    Parameters:\n",
        "    - lst (list): The original list.\n",
        "    - n (int): The number of elements to be extracted.\n",
        "\n",
        "    Returns:\n",
        "    - list: A new list containing the first n elements.\n",
        "    \"\"\"\n",
        "    return lst[:n]  # Extracts the first n elements using slicing.\n",
        "\n",
        "# Function call example\n",
        "print(get_first_n([1, 2, 3, 4, 5], 3))  # Expected output: [1, 2, 3]\n"
      ],
      "metadata": {
        "colab": {
          "base_uri": "https://localhost:8080/"
        },
        "id": "tddLLYqz2cac",
        "outputId": "f5b716bf-4c6e-4f4b-d961-c29626e9fbc3"
      },
      "execution_count": 7,
      "outputs": [
        {
          "output_type": "stream",
          "name": "stdout",
          "text": [
            "[1, 2, 3]\n"
          ]
        }
      ]
    },
    {
      "cell_type": "code",
      "source": [
        "def get_last_n(lst, n):\n",
        "    \"\"\"\n",
        "    This function extracts the last n elements from the given list using slicing.\n",
        "\n",
        "    Parameters:\n",
        "    - lst (list): The original list.\n",
        "    - n (int): The number of elements to extract from the end.\n",
        "\n",
        "    Returns:\n",
        "    - list: A new list containing the last n elements.\n",
        "    \"\"\"\n",
        "    return lst[-n:]  # Uses slicing to extract the last n elements.\n",
        "\n",
        "# Function call example\n",
        "print(get_last_n([1, 2, 3, 4, 5], 2))  # Expected output: [4, 5]\n"
      ],
      "metadata": {
        "colab": {
          "base_uri": "https://localhost:8080/"
        },
        "id": "9N2hNWsT2ft1",
        "outputId": "7dd9350c-dd30-48f3-d5f9-9d67e792b300"
      },
      "execution_count": 8,
      "outputs": [
        {
          "output_type": "stream",
          "name": "stdout",
          "text": [
            "[4, 5]\n"
          ]
        }
      ]
    },
    {
      "cell_type": "code",
      "source": [
        "def reverse_skip(lst):\n",
        "    \"\"\"\n",
        "    This function extracts every second element from the list starting from the second-to-last element, moving in reverse.\n",
        "\n",
        "    Parameters:\n",
        "    - lst (list): The original list.\n",
        "\n",
        "    Returns:\n",
        "    - list: A new list containing every second element, starting from the second-to-last, moving backwards.\n",
        "    \"\"\"\n",
        "    return lst[-2::-2]  # Slices the list to get every second element in reverse order.\n",
        "\n",
        "# Function call example\n",
        "print(reverse_skip([1, 2, 3, 4, 5, 6]))  # Expected output: [5, 3, 1]\n"
      ],
      "metadata": {
        "colab": {
          "base_uri": "https://localhost:8080/"
        },
        "id": "GmeQtSq12jSe",
        "outputId": "616df716-29bb-4444-8dd7-d23840719117"
      },
      "execution_count": 9,
      "outputs": [
        {
          "output_type": "stream",
          "name": "stdout",
          "text": [
            "[5, 3, 1]\n"
          ]
        }
      ]
    },
    {
      "cell_type": "markdown",
      "source": [
        "# Exercise on Nested List"
      ],
      "metadata": {
        "id": "GROi91612nHW"
      }
    },
    {
      "cell_type": "code",
      "source": [
        "def flatten(lst):\n",
        "    \"\"\"\n",
        "    This function flattens a nested list into a single list by recursively unpacking inner lists.\n",
        "\n",
        "    Parameters:\n",
        "    - lst (list): The nested list that needs to be flattened.\n",
        "\n",
        "    Returns:\n",
        "    - list: A new, flattened list containing all elements from the nested list.\n",
        "    \"\"\"\n",
        "    flat_list = []  # Start with an empty list to accumulate the flattened elements.\n",
        "    for item in lst:\n",
        "        if isinstance(item, list):  # If the item is a list, call flatten recursively.\n",
        "            flat_list.extend(flatten(item))\n",
        "        else:\n",
        "            flat_list.append(item)  # Directly append non-list items to the result.\n",
        "    return flat_list\n",
        "\n",
        "# Function call example\n",
        "print(flatten([[1, 2], [3, [4, 5]], 6]))  # Expected output: [1, 2, 3, 4, 5, 6]\n"
      ],
      "metadata": {
        "colab": {
          "base_uri": "https://localhost:8080/"
        },
        "id": "eqvXZ28E3t1H",
        "outputId": "9f976e76-2105-4d76-a46b-7d521aa3f5bd"
      },
      "execution_count": 10,
      "outputs": [
        {
          "output_type": "stream",
          "name": "stdout",
          "text": [
            "[1, 2, 3, 4, 5, 6]\n"
          ]
        }
      ]
    },
    {
      "cell_type": "code",
      "source": [
        "def access_nested_element(lst, indices):\n",
        "    \"\"\"\n",
        "    This function extracts a specific element from a nested list using a list of indices.\n",
        "\n",
        "    Parameters:\n",
        "    - lst (list): The nested list.\n",
        "    - indices (list): A list of indices specifying the path to the element.\n",
        "\n",
        "    Returns:\n",
        "    - any: The element located at the specified indices.\n",
        "    \"\"\"\n",
        "    for index in indices:  # Traverse through each index in the indices list.\n",
        "        lst = lst[index]  # Update lst to the element at the current index.\n",
        "    return lst  # Return the located element.\n",
        "\n",
        "# Function call example\n",
        "print(access_nested_element([[1, 2, 3], [4, 5, 6], [7, 8, 9]], [1, 2]))  # Expected output: 6\n"
      ],
      "metadata": {
        "colab": {
          "base_uri": "https://localhost:8080/"
        },
        "id": "oga0Z3Oy2v3D",
        "outputId": "5a990a3f-b8b6-4549-c3a6-e94523ad2c42"
      },
      "execution_count": 11,
      "outputs": [
        {
          "output_type": "stream",
          "name": "stdout",
          "text": [
            "6\n"
          ]
        }
      ]
    },
    {
      "cell_type": "code",
      "source": [
        "def sum_nested(lst):\n",
        "    \"\"\"\n",
        "    This function calculates the sum of all numbers within a nested list by first flattening the list.\n",
        "\n",
        "    Parameters:\n",
        "    - lst (list): The nested list containing numbers.\n",
        "\n",
        "    Returns:\n",
        "    - float: The sum of all elements after flattening the list.\n",
        "    \"\"\"\n",
        "    return sum(flatten(lst))  # Flatten the list and compute the sum of all its elements.\n",
        "\n",
        "# Function call example\n",
        "print(sum_nested([[1, 2], [3, [4, 5]], 6]))  # Expected output: 21\n"
      ],
      "metadata": {
        "colab": {
          "base_uri": "https://localhost:8080/"
        },
        "id": "Jxb-978w2wap",
        "outputId": "2db5f60e-8d55-4b27-c5da-7719192c56f4"
      },
      "execution_count": 12,
      "outputs": [
        {
          "output_type": "stream",
          "name": "stdout",
          "text": [
            "21\n"
          ]
        }
      ]
    },
    {
      "cell_type": "code",
      "source": [
        "def remove_element(lst, elem):\n",
        "    \"\"\"\n",
        "    This function removes all occurrences of a specific element from a nested list.\n",
        "\n",
        "    Parameters:\n",
        "    - lst (list): The nested list.\n",
        "    - elem (any): The element to be removed.\n",
        "\n",
        "    Returns:\n",
        "    - list: The modified list with the element removed.\n",
        "    \"\"\"\n",
        "    # Recursively iterate through the list and remove elem.\n",
        "    return [remove_element(item, elem) if isinstance(item, list) else item for item in lst if item != elem]\n",
        "\n",
        "# Function call example\n",
        "print(remove_element([[1, 2], [3, 2], [4, 5]], 2))  # Expected output: [[1], [3], [4, 5]]\n"
      ],
      "metadata": {
        "colab": {
          "base_uri": "https://localhost:8080/"
        },
        "id": "sGxcAov23iN5",
        "outputId": "3fdd913e-3d42-407d-c1a3-d4e7243dae40"
      },
      "execution_count": 13,
      "outputs": [
        {
          "output_type": "stream",
          "name": "stdout",
          "text": [
            "[[1], [3], [4, 5]]\n"
          ]
        }
      ]
    },
    {
      "cell_type": "code",
      "source": [
        "def find_max(lst):\n",
        "    \"\"\"\n",
        "    This function finds the maximum element in a nested list by flattening it first.\n",
        "\n",
        "    Parameters:\n",
        "    - lst (list): The nested list from which the maximum element is to be found.\n",
        "\n",
        "    Returns:\n",
        "    - float: The maximum element after flattening the list.\n",
        "    \"\"\"\n",
        "    # Flatten the list and then find the maximum element\n",
        "    return max(flatten(lst))\n",
        "\n",
        "# Function call example\n",
        "print(find_max([[1, 2], [3, [4, 5]], 6]))  # Expected output: 6\n"
      ],
      "metadata": {
        "colab": {
          "base_uri": "https://localhost:8080/"
        },
        "id": "XQ-eA6Sa31yB",
        "outputId": "3eadcb2a-4972-4655-ac41-9c19d7652dd4"
      },
      "execution_count": 14,
      "outputs": [
        {
          "output_type": "stream",
          "name": "stdout",
          "text": [
            "6\n"
          ]
        }
      ]
    },
    {
      "cell_type": "code",
      "source": [
        "def count_occurrences(lst, elem):\n",
        "    \"\"\"\n",
        "    This function counts how many times a specific element appears in a nested list by flattening it first.\n",
        "\n",
        "    Parameters:\n",
        "    - lst (list): The nested list to search through.\n",
        "    - elem (any): The element whose occurrences are to be counted.\n",
        "\n",
        "    Returns:\n",
        "    - int: The number of occurrences of the element in the flattened list.\n",
        "    \"\"\"\n",
        "    # Flatten the list and then count how many times elem appears\n",
        "    return flatten(lst).count(elem)\n",
        "\n",
        "# Function call example\n",
        "print(count_occurrences([[1, 2], [2, 3], [2, 4]], 2))  # Expected output: 3\n"
      ],
      "metadata": {
        "colab": {
          "base_uri": "https://localhost:8080/"
        },
        "id": "1iHgRdT033ic",
        "outputId": "9b87182d-3f0a-457a-fa6a-e7ddf4252b89"
      },
      "execution_count": 15,
      "outputs": [
        {
          "output_type": "stream",
          "name": "stdout",
          "text": [
            "3\n"
          ]
        }
      ]
    },
    {
      "cell_type": "code",
      "source": [
        "def deep_flatten(lst):\n",
        "    \"\"\"\n",
        "    This function flattens a deeply nested list into a single list by recursively flattening it.\n",
        "\n",
        "    Parameters:\n",
        "    - lst (list): The deeply nested list to be flattened.\n",
        "\n",
        "    Returns:\n",
        "    - list: A single list that contains all the elements from the deeply nested list.\n",
        "    \"\"\"\n",
        "    # Flatten the nested list using the helper function 'flatten'\n",
        "    return flatten(lst)\n",
        "\n",
        "# Function call example\n",
        "print(deep_flatten([[[1, 2], [3, 4]], [[5, 6], [7, 8]]]))  # Expected output: [1, 2, 3, 4, 5, 6, 7, 8]\n"
      ],
      "metadata": {
        "colab": {
          "base_uri": "https://localhost:8080/"
        },
        "id": "KGM7zF3N38Wm",
        "outputId": "659ff020-2269-41f6-9ba5-b6ddb7694a24"
      },
      "execution_count": 16,
      "outputs": [
        {
          "output_type": "stream",
          "name": "stdout",
          "text": [
            "[1, 2, 3, 4, 5, 6, 7, 8]\n"
          ]
        }
      ]
    },
    {
      "cell_type": "code",
      "source": [
        "def average_nested(lst):\n",
        "    \"\"\"\n",
        "    This function calculates the average of all elements in a nested list by first flattening it.\n",
        "\n",
        "    Parameters:\n",
        "    - lst (list): The nested list whose elements are to be averaged.\n",
        "\n",
        "    Returns:\n",
        "    - float: The average of all elements in the flattened list.\n",
        "    \"\"\"\n",
        "    # Flatten the nested list and compute the average using sum and length\n",
        "    flat_list = flatten(lst)\n",
        "    return sum(flat_list) / len(flat_list)\n",
        "\n",
        "# Function call example\n",
        "print(average_nested([[1, 2], [3, 4], [5, 6]]))  # Expected output: 3.5\n"
      ],
      "metadata": {
        "colab": {
          "base_uri": "https://localhost:8080/"
        },
        "id": "r0k0HcDA3_Fd",
        "outputId": "ccf04dc9-f451-4783-9054-30dc88b115d8"
      },
      "execution_count": 17,
      "outputs": [
        {
          "output_type": "stream",
          "name": "stdout",
          "text": [
            "3.5\n"
          ]
        }
      ]
    },
    {
      "cell_type": "markdown",
      "source": [
        "# Basic Vector and Matrix Operation with Numpy."
      ],
      "metadata": {
        "id": "HOfXMOKX45Tr"
      }
    },
    {
      "cell_type": "markdown",
      "source": [
        "# Problem - 1: Array Creation:"
      ],
      "metadata": {
        "id": "CggzDmEJ46OB"
      }
    },
    {
      "cell_type": "code",
      "source": [
        "import numpy as np\n",
        "\n",
        "# 1. Initialize an empty array with size 2x2\n",
        "empty_array = np.empty((2, 2))  # Uninitialized array with random values\n",
        "print(\"Empty 2x2 Array:\\n\", empty_array)\n",
        "print(\"---------------\")\n",
        "\n",
        "# 2. Initialize an all ones array with size 4x2\n",
        "ones_array = np.ones((4, 2))  # 4x2 array filled with ones\n",
        "print(\"All Ones 4x2 Array:\\n\", ones_array)\n",
        "print(\"---------------\")\n",
        "\n",
        "# 3. Return a new array of given shape and type, filled with fill value\n",
        "fill_value_array = np.full((3, 3), 5)  # 3x3 array filled with 5\n",
        "print(\"Array Filled with Value 5:\\n\", fill_value_array)\n",
        "print(\"---------------\")\n",
        "\n",
        "# 4. Return a new array of zeros with same shape and type as a given array\n",
        "given_array = np.array([[1, 2], [3, 4]])  # Initial given array\n",
        "zeros_like_array = np.zeros_like(given_array)  # Zeros array matching shape\n",
        "print(\"Zeros Array with Same Shape as Given Array:\\n\", zeros_like_array)\n",
        "print(\"---------------\")\n",
        "\n",
        "# 5. Return a new array of ones with same shape and type as a given array\n",
        "ones_like_array = np.ones_like(given_array)  # Ones array matching shape\n",
        "print(\"Ones Array with Same Shape as Given Array:\\n\", ones_like_array)\n",
        "print(\"---------------\")\n",
        "\n",
        "# 6. Convert a list to a NumPy array\n",
        "new_list = [1, 2, 3, 4]  # Python list\n",
        "numpy_array = np.array(new_list)  # List converted to NumPy array\n",
        "print(\"Converted NumPy Array from List:\\n\", numpy_array)\n"
      ],
      "metadata": {
        "colab": {
          "base_uri": "https://localhost:8080/"
        },
        "id": "6iLs6Tn549aq",
        "outputId": "51c8654f-41af-4ba6-ba54-6dee577948d7"
      },
      "execution_count": 18,
      "outputs": [
        {
          "output_type": "stream",
          "name": "stdout",
          "text": [
            "Empty 2x2 Array:\n",
            " [[2.0742587e-316 0.0000000e+000]\n",
            " [4.9406565e-324            nan]]\n",
            "---------------\n",
            "All Ones 4x2 Array:\n",
            " [[1. 1.]\n",
            " [1. 1.]\n",
            " [1. 1.]\n",
            " [1. 1.]]\n",
            "---------------\n",
            "Array Filled with Value 5:\n",
            " [[5 5 5]\n",
            " [5 5 5]\n",
            " [5 5 5]]\n",
            "---------------\n",
            "Zeros Array with Same Shape as Given Array:\n",
            " [[0 0]\n",
            " [0 0]]\n",
            "---------------\n",
            "Ones Array with Same Shape as Given Array:\n",
            " [[1 1]\n",
            " [1 1]]\n",
            "---------------\n",
            "Converted NumPy Array from List:\n",
            " [1 2 3 4]\n"
          ]
        }
      ]
    },
    {
      "cell_type": "markdown",
      "source": [
        "# Problem - 2: Array Manipulation: Numerical Ranges and Array indexing:"
      ],
      "metadata": {
        "id": "Uq2c7Pld5PNs"
      }
    },
    {
      "cell_type": "code",
      "source": [
        "import numpy as np\n",
        "\n",
        "# 1. Create an array that ranges from 10 to 49\n",
        "range_array = np.arange(10, 50)\n",
        "print(\"Array with Values from 10 to 49:\\n\", range_array)\n",
        "print(\"---------------\")\n",
        "\n",
        "# 2. Generate a 3x3 array with numbers from 0 to 8\n",
        "matrix_3x3 = np.arange(9).reshape(3, 3)\n",
        "print(\"3x3 Matrix with Values 0 to 8:\\n\", matrix_3x3)\n",
        "print(\"---------------\")\n",
        "\n",
        "# 3. Generate a 3x3 identity matrix (diagonal elements are 1)\n",
        "identity_matrix = np.eye(3)\n",
        "print(\"3x3 Identity Matrix:\\n\", identity_matrix)\n",
        "print(\"---------------\")\n",
        "\n",
        "# 4. Generate a random array of 30 values and calculate its average\n",
        "random_array = np.random.random(30)\n",
        "mean_value = random_array.mean()  # Compute the average of the random values\n",
        "print(\"Random Array of Size 30:\\n\", random_array)\n",
        "print(\"Mean of Random Array:\", mean_value)\n",
        "print(\"---------------\")\n",
        "\n",
        "# 5. Create a 10x10 random array and find the minimum and maximum values\n",
        "random_10x10 = np.random.random((10, 10))\n",
        "min_value = random_10x10.min()  # Extract the minimum value from the array\n",
        "max_value = random_10x10.max()  # Extract the maximum value from the array\n",
        "print(\"10x10 Random Array:\\n\", random_10x10)\n",
        "print(\"Minimum Value:\", min_value)\n",
        "print(\"Maximum Value:\", max_value)\n",
        "print(\"---------------\")\n",
        "\n",
        "# 6. Create a zero-filled array of size 10 and replace the 5th value with 1\n",
        "zero_array = np.zeros(10)\n",
        "zero_array[4] = 1  # Set the 5th element (at index 4) to 1\n",
        "print(\"Zero Array with 5th Element Replaced:\\n\", zero_array)\n",
        "print(\"---------------\")\n",
        "\n",
        "# 7. Reverse the elements of the array\n",
        "arr = np.array([1, 2, 0, 0, 4, 0])\n",
        "reversed_arr = arr[::-1]  # Flip the array\n",
        "print(\"Reversed Array:\\n\", reversed_arr)\n",
        "print(\"---------------\")\n",
        "\n",
        "# 8. Create a 2D array with 1s on the edges and 0s inside\n",
        "border_array = np.ones((5, 5))\n",
        "border_array[1:-1, 1:-1] = 0  # Set the internal values to 0\n",
        "print(\"2D Array with 1 on Border and 0 Inside:\\n\", border_array)\n",
        "print(\"---------------\")\n",
        "\n",
        "# 9. Create an 8x8 matrix with a checkerboard pattern\n",
        "checkerboard = np.zeros((8, 8))\n",
        "checkerboard[1::2, ::2] = 1  # Create alternating 1s in certain cells\n",
        "checkerboard[::2, 1::2] = 1  # Continue with alternating pattern\n",
        "print(\"8x8 Checkerboard Pattern:\\n\", checkerboard)\n"
      ],
      "metadata": {
        "colab": {
          "base_uri": "https://localhost:8080/"
        },
        "id": "7rzn4AIv5QTA",
        "outputId": "4d1b1b8a-31a4-4791-8db1-791f5853dee5"
      },
      "execution_count": 19,
      "outputs": [
        {
          "output_type": "stream",
          "name": "stdout",
          "text": [
            "Array with Values from 10 to 49:\n",
            " [10 11 12 13 14 15 16 17 18 19 20 21 22 23 24 25 26 27 28 29 30 31 32 33\n",
            " 34 35 36 37 38 39 40 41 42 43 44 45 46 47 48 49]\n",
            "---------------\n",
            "3x3 Matrix with Values 0 to 8:\n",
            " [[0 1 2]\n",
            " [3 4 5]\n",
            " [6 7 8]]\n",
            "---------------\n",
            "3x3 Identity Matrix:\n",
            " [[1. 0. 0.]\n",
            " [0. 1. 0.]\n",
            " [0. 0. 1.]]\n",
            "---------------\n",
            "Random Array of Size 30:\n",
            " [0.9157436  0.50193078 0.41182855 0.35000973 0.00187648 0.31318816\n",
            " 0.82877937 0.46952023 0.06822394 0.47106296 0.10617087 0.05816773\n",
            " 0.15757181 0.68295035 0.79601068 0.16061389 0.68979721 0.13620678\n",
            " 0.98040101 0.46682643 0.5945786  0.13433113 0.3209735  0.60252165\n",
            " 0.56536979 0.07967357 0.40486905 0.69434048 0.84266195 0.76397209]\n",
            "Mean of Random Array: 0.4523390792031783\n",
            "---------------\n",
            "10x10 Random Array:\n",
            " [[0.02221333 0.44776743 0.26222252 0.41943487 0.29674333 0.09931957\n",
            "  0.20427776 0.73665707 0.44316527 0.05990184]\n",
            " [0.01556806 0.43935539 0.00825475 0.61120463 0.0247982  0.45335738\n",
            "  0.0980834  0.91053125 0.5675049  0.77157586]\n",
            " [0.74597346 0.12144464 0.85339536 0.87837728 0.93318606 0.98784236\n",
            "  0.36082005 0.5872348  0.79496964 0.39449576]\n",
            " [0.61475631 0.0144903  0.56266608 0.44673119 0.12939812 0.5743886\n",
            "  0.7457461  0.56393351 0.51019166 0.98919209]\n",
            " [0.61176087 0.49411047 0.40294068 0.74880913 0.54633104 0.27866748\n",
            "  0.81807047 0.75379002 0.05919432 0.77789948]\n",
            " [0.56888886 0.76492265 0.07372236 0.88492198 0.44032435 0.96122997\n",
            "  0.47455747 0.03148805 0.02743212 0.06813483]\n",
            " [0.75317046 0.28996623 0.67079671 0.31777501 0.17449895 0.22590375\n",
            "  0.19466736 0.51380496 0.04724211 0.04652371]\n",
            " [0.79743497 0.74603902 0.45907697 0.74647069 0.03232684 0.14585441\n",
            "  0.59162855 0.9418062  0.24308004 0.37758866]\n",
            " [0.16644504 0.3913544  0.30101568 0.74480197 0.76964478 0.39588718\n",
            "  0.09723102 0.43890503 0.816646   0.88346457]\n",
            " [0.45649489 0.30768143 0.56923176 0.7363563  0.73217171 0.7150541\n",
            "  0.71753554 0.5586902  0.71705883 0.59436562]]\n",
            "Minimum Value: 0.008254748179386096\n",
            "Maximum Value: 0.9891920938680787\n",
            "---------------\n",
            "Zero Array with 5th Element Replaced:\n",
            " [0. 0. 0. 0. 1. 0. 0. 0. 0. 0.]\n",
            "---------------\n",
            "Reversed Array:\n",
            " [0 4 0 0 2 1]\n",
            "---------------\n",
            "2D Array with 1 on Border and 0 Inside:\n",
            " [[1. 1. 1. 1. 1.]\n",
            " [1. 0. 0. 0. 1.]\n",
            " [1. 0. 0. 0. 1.]\n",
            " [1. 0. 0. 0. 1.]\n",
            " [1. 1. 1. 1. 1.]]\n",
            "---------------\n",
            "8x8 Checkerboard Pattern:\n",
            " [[0. 1. 0. 1. 0. 1. 0. 1.]\n",
            " [1. 0. 1. 0. 1. 0. 1. 0.]\n",
            " [0. 1. 0. 1. 0. 1. 0. 1.]\n",
            " [1. 0. 1. 0. 1. 0. 1. 0.]\n",
            " [0. 1. 0. 1. 0. 1. 0. 1.]\n",
            " [1. 0. 1. 0. 1. 0. 1. 0.]\n",
            " [0. 1. 0. 1. 0. 1. 0. 1.]\n",
            " [1. 0. 1. 0. 1. 0. 1. 0.]]\n"
          ]
        }
      ]
    },
    {
      "cell_type": "markdown",
      "source": [
        "# Problem - 3: Array Operations:"
      ],
      "metadata": {
        "id": "-9y8Z94E5f0R"
      }
    },
    {
      "cell_type": "code",
      "source": [
        "import numpy as np\n",
        "\n",
        "# Given arrays\n",
        "x = np.array([[1, 2], [3, 5]])\n",
        "y = np.array([[5, 6], [7, 8]])\n",
        "v = np.array([9, 10])\n",
        "w = np.array([11, 12])\n",
        "\n",
        "# 1. Add the arrays element-wise\n",
        "add_result = x + y  # Add corresponding elements of x and y\n",
        "print(\"Addition of x and y:\\n\", add_result)\n",
        "print(\"---------------\")\n",
        "\n",
        "# 2. Subtract the arrays element-wise\n",
        "subtract_result = x - y  # Subtract corresponding elements of x and y\n",
        "print(\"Subtraction of x and y:\\n\", subtract_result)\n",
        "print(\"---------------\")\n",
        "\n",
        "# 3. Multiply the array by 2\n",
        "multiply_result = x * 2  # Element-wise multiplication of x by 2\n",
        "print(\"Multiplication of x by 2:\\n\", multiply_result)\n",
        "print(\"---------------\")\n",
        "\n",
        "# 4. Find the square of each element in x\n",
        "square_result = np.square(x)  # Compute the square of each element in x\n",
        "print(\"Square of Each Element in x:\\n\", square_result)\n",
        "print(\"---------------\")\n",
        "\n",
        "# 5. Compute the dot product of the arrays\n",
        "dot_vw = np.dot(v, w)  # Dot product between vectors v and w\n",
        "dot_xv = np.dot(x, v)  # Dot product of matrix x with vector v\n",
        "dot_xy = np.dot(x, y)  # Dot product between matrices x and y\n",
        "print(\"Dot Product of v and w:\", dot_vw)\n",
        "print(\"Dot Product of x and v:\", dot_xv)\n",
        "print(\"Dot Product of x and y:\\n\", dot_xy)\n",
        "print(\"---------------\")\n",
        "\n",
        "# 6. Concatenate the arrays x and y along rows, and v and w along columns\n",
        "concatenate_rows = np.concatenate((x, y), axis=0)  # Stack x and y along rows (axis=0)\n",
        "concatenate_columns = np.vstack((v, w))  # Stack v and w vertically\n",
        "print(\"Concatenate x and y along rows:\\n\", concatenate_rows)\n",
        "print(\"Concatenate v and w along columns:\\n\", concatenate_columns)\n",
        "print(\"---------------\")\n",
        "\n",
        "# 7. Try to concatenate x and v (results in an error)\n",
        "try:\n",
        "    concatenate_xv = np.concatenate((x, v))  # Attempt concatenation of x and v\n",
        "except ValueError as e:\n",
        "    print(\"Error:\", e)  # Handle the error and print the message\n",
        "    print(\"Explanation: Arrays x (2x2) and v (2,) cannot be concatenated due to incompatible shapes.\")\n"
      ],
      "metadata": {
        "colab": {
          "base_uri": "https://localhost:8080/"
        },
        "id": "7Kk1Pa0X5ghe",
        "outputId": "f162bf28-df06-41ba-e1e5-c42743b17ded"
      },
      "execution_count": 20,
      "outputs": [
        {
          "output_type": "stream",
          "name": "stdout",
          "text": [
            "Addition of x and y:\n",
            " [[ 6  8]\n",
            " [10 13]]\n",
            "---------------\n",
            "Subtraction of x and y:\n",
            " [[-4 -4]\n",
            " [-4 -3]]\n",
            "---------------\n",
            "Multiplication of x by 2:\n",
            " [[ 2  4]\n",
            " [ 6 10]]\n",
            "---------------\n",
            "Square of Each Element in x:\n",
            " [[ 1  4]\n",
            " [ 9 25]]\n",
            "---------------\n",
            "Dot Product of v and w: 219\n",
            "Dot Product of x and v: [29 77]\n",
            "Dot Product of x and y:\n",
            " [[19 22]\n",
            " [50 58]]\n",
            "---------------\n",
            "Concatenate x and y along rows:\n",
            " [[1 2]\n",
            " [3 5]\n",
            " [5 6]\n",
            " [7 8]]\n",
            "Concatenate v and w along columns:\n",
            " [[ 9 10]\n",
            " [11 12]]\n",
            "---------------\n",
            "Error: all the input arrays must have same number of dimensions, but the array at index 0 has 2 dimension(s) and the array at index 1 has 1 dimension(s)\n",
            "Explanation: Arrays x (2x2) and v (2,) cannot be concatenated due to incompatible shapes.\n"
          ]
        }
      ]
    },
    {
      "cell_type": "markdown",
      "source": [
        "# Problem - 4: Matrix Operations:"
      ],
      "metadata": {
        "id": "a7WGIiQE5td6"
      }
    },
    {
      "cell_type": "code",
      "source": [
        "import numpy as np\n",
        "\n",
        "# Given arrays\n",
        "A = np.array([[3, 4], [7, 8]])\n",
        "B = np.array([[5, 3], [2, 1]])\n",
        "\n",
        "# 1. Show that A.A^-1 = I (Identity Matrix Proof)\n",
        "A_inv = np.linalg.inv(A)  # Calculate the inverse of matrix A\n",
        "identity_check = np.dot(A, A_inv)  # Multiply A by its inverse to get the identity matrix\n",
        "print(\"A.A^-1:\\n\", identity_check)\n",
        "print(\"---------------\")\n",
        "\n",
        "# 2. Show that AB != BA (Matrix Multiplication is not Commutative)\n",
        "AB = np.dot(A, B)  # Matrix multiplication of A and B\n",
        "BA = np.dot(B, A)  # Matrix multiplication of B and A\n",
        "print(\"AB:\\n\", AB)\n",
        "print(\"BA:\\n\", BA)\n",
        "print(\"Is AB != BA?\", not np.array_equal(AB, BA))  # Compare AB and BA to check if they are different\n",
        "print(\"---------------\")\n",
        "\n",
        "# 3. Show that (AB)^T = B^T A^T (Transpose of Product Rule)\n",
        "AB_transpose = AB.T  # Compute the transpose of the product AB\n",
        "B_transpose_A_transpose = np.dot(B.T, A.T)  # Multiply the transposes of B and A\n",
        "print(\"(AB)^T:\\n\", AB_transpose)\n",
        "print(\"B^T A^T:\\n\", B_transpose_A_transpose)\n",
        "print(\"Is (AB)^T == B^T A^T?\", np.array_equal(AB_transpose, B_transpose_A_transpose))  # Check if the property holds\n",
        "print(\"---------------\")\n",
        "\n",
        "# Solve the system of linear equations\n",
        "# 2x - 3y + z = -1\n",
        "# x - y + 2z = -3\n",
        "# 3x + y - z = 9\n",
        "\n",
        "# Matrix form: AX = B\n",
        "A_eq = np.array([[2, -3, 1], [1, -1, 2], [3, 1, -1]])  # Coefficient matrix for the system\n",
        "B_eq = np.array([-1, -3, 9])  # Right-hand side constants\n",
        "print(\"---------------\")\n",
        "\n",
        "# Solve using inverse method\n",
        "X = np.dot(np.linalg.inv(A_eq), B_eq)  # Solve for X using the inverse of A_eq\n",
        "print(\"Solution using Inverse Method:\", X)\n",
        "print(\"---------------\")\n",
        "\n",
        "# Solve using np.linalg.solve\n",
        "X_solve = np.linalg.solve(A_eq, B_eq)  # Solve the system using numpy's efficient solver\n",
        "print(\"Solution using np.linalg.solve:\", X_solve)\n"
      ],
      "metadata": {
        "colab": {
          "base_uri": "https://localhost:8080/"
        },
        "id": "T1smTCWZ5tPy",
        "outputId": "dba6a321-2fc8-47a3-ca91-8659bf529d48"
      },
      "execution_count": 21,
      "outputs": [
        {
          "output_type": "stream",
          "name": "stdout",
          "text": [
            "A.A^-1:\n",
            " [[1.00000000e+00 0.00000000e+00]\n",
            " [1.77635684e-15 1.00000000e+00]]\n",
            "---------------\n",
            "AB:\n",
            " [[23 13]\n",
            " [51 29]]\n",
            "BA:\n",
            " [[36 44]\n",
            " [13 16]]\n",
            "Is AB != BA? True\n",
            "---------------\n",
            "(AB)^T:\n",
            " [[23 51]\n",
            " [13 29]]\n",
            "B^T A^T:\n",
            " [[23 51]\n",
            " [13 29]]\n",
            "Is (AB)^T == B^T A^T? True\n",
            "---------------\n",
            "---------------\n",
            "Solution using Inverse Method: [ 2.  1. -2.]\n",
            "---------------\n",
            "Solution using np.linalg.solve: [ 2.  1. -2.]\n"
          ]
        }
      ]
    },
    {
      "cell_type": "markdown",
      "source": [
        "# Experiment: How Fast is Numpy?"
      ],
      "metadata": {
        "id": "3H_v52uH59RJ"
      }
    },
    {
      "cell_type": "code",
      "source": [
        "import time\n",
        "import numpy as np\n",
        "\n",
        "# Function to measure time taken for an operation\n",
        "def measure_time(func, *args):\n",
        "    start_time = time.time()  # Capture start time\n",
        "    func(*args)  # Execute the passed function\n",
        "    end_time = time.time()  # Capture end time\n",
        "    return end_time - start_time  # Return the elapsed time in seconds\n",
        "\n",
        "# 1. Element-wise Addition\n",
        "def elementwise_addition_python(list1, list2):\n",
        "    return [a + b for a, b in zip(list1, list2)]  # Element-wise addition using Python lists\n",
        "\n",
        "def elementwise_addition_numpy(array1, array2):\n",
        "    return array1 + array2  # Element-wise addition using NumPy arrays\n",
        "\n",
        "# 2. Element-wise Multiplication\n",
        "def elementwise_multiplication_python(list1, list2):\n",
        "    return [a * b for a, b in zip(list1, list2)]  # Element-wise multiplication using Python lists\n",
        "\n",
        "def elementwise_multiplication_numpy(array1, array2):\n",
        "    return array1 * array2  # Element-wise multiplication using NumPy arrays\n",
        "\n",
        "# 3. Dot Product\n",
        "def dot_product_python(list1, list2):\n",
        "    return sum(a * b for a, b in zip(list1, list2))  # Dot product using Python lists\n",
        "\n",
        "def dot_product_numpy(array1, array2):\n",
        "    return np.dot(array1, array2)  # Dot product using NumPy arrays\n",
        "\n",
        "# 4. Matrix Multiplication\n",
        "def matrix_multiplication_python(matrix1, matrix2):\n",
        "    result = [[sum(a * b for a, b in zip(row, col)) for col in zip(*matrix2)] for row in matrix1]  # Matrix multiplication with Python lists\n",
        "    return result\n",
        "\n",
        "def matrix_multiplication_numpy(matrix1, matrix2):\n",
        "    return np.dot(matrix1, matrix2)  # Matrix multiplication with NumPy arrays\n",
        "\n",
        "# Initialize data\n",
        "size = 1000000  # Set the size for element-wise operations\n",
        "list1 = list(range(size))  # Create list1 from 0 to size-1\n",
        "list2 = list(range(size, 2 * size))  # Create list2 from size to 2*size-1\n",
        "array1 = np.arange(size)  # Create NumPy array1 from 0 to size-1\n",
        "array2 = np.arange(size, 2 * size)  # Create NumPy array2 from size to 2*size-1\n",
        "\n",
        "matrix_size = 1000  # Define the matrix size for matrix operations\n",
        "matrix1 = [[i + j for j in range(matrix_size)] for i in range(matrix_size)]  # Matrix1 with size matrix_size x matrix_size\n",
        "matrix2 = [[i - j for j in range(matrix_size)] for i in range(matrix_size)]  # Matrix2 with size matrix_size x matrix_size\n",
        "np_matrix1 = np.array(matrix1)  # Convert matrix1 to a NumPy array\n",
        "np_matrix2 = np.array(matrix2)  # Convert matrix2 to a NumPy array\n",
        "\n",
        "# Measure time for each operation\n",
        "print(\"1. Element-wise Addition:\")\n",
        "time_python_add = measure_time(elementwise_addition_python, list1, list2)\n",
        "time_numpy_add = measure_time(elementwise_addition_numpy, array1, array2)\n",
        "print(f\"Python Lists: {time_python_add:.6f} seconds\")\n",
        "print(f\"NumPy Arrays: {time_numpy_add:.6f} seconds\")\n",
        "\n",
        "print(\"\\n2. Element-wise Multiplication:\")\n",
        "time_python_mul = measure_time(elementwise_multiplication_python, list1, list2)\n",
        "time_numpy_mul = measure_time(elementwise_multiplication_numpy, array1, array2)\n",
        "print(f\"Python Lists: {time_python_mul:.6f} seconds\")\n",
        "print(f\"NumPy Arrays: {time_numpy_mul:.6f} seconds\")\n",
        "\n",
        "print(\"\\n3. Dot Product:\")\n",
        "time_python_dot = measure_time(dot_product_python, list1, list2)\n",
        "time_numpy_dot = measure_time(dot_product_numpy, array1, array2)\n",
        "print(f\"Python Lists: {time_python_dot:.6f} seconds\")\n",
        "print(f\"NumPy Arrays: {time_numpy_dot:.6f} seconds\")\n",
        "\n",
        "print(\"\\n4. Matrix Multiplication:\")\n",
        "time_python_matmul = measure_time(matrix_multiplication_python, matrix1, matrix2)\n",
        "time_numpy_matmul = measure_time(matrix_multiplication_numpy, np_matrix1, np_matrix2)\n",
        "print(f\"Python Lists: {time_python_matmul:.6f} seconds\")\n",
        "print(f\"NumPy Arrays: {time_numpy_matmul:.6f} seconds\")\n"
      ],
      "metadata": {
        "colab": {
          "base_uri": "https://localhost:8080/"
        },
        "id": "vQXBJN236Jm5",
        "outputId": "4918314f-11ce-463c-fa58-2ce32dff07e4"
      },
      "execution_count": 22,
      "outputs": [
        {
          "output_type": "stream",
          "name": "stdout",
          "text": [
            "1. Element-wise Addition:\n",
            "Python Lists: 0.050895 seconds\n",
            "NumPy Arrays: 0.002286 seconds\n",
            "\n",
            "2. Element-wise Multiplication:\n",
            "Python Lists: 0.044301 seconds\n",
            "NumPy Arrays: 0.001092 seconds\n",
            "\n",
            "3. Dot Product:\n",
            "Python Lists: 0.049180 seconds\n",
            "NumPy Arrays: 0.000879 seconds\n",
            "\n",
            "4. Matrix Multiplication:\n",
            "Python Lists: 90.606372 seconds\n",
            "NumPy Arrays: 0.815162 seconds\n"
          ]
        }
      ]
    }
  ]
}